{
 "cells": [
  {
   "attachments": {},
   "cell_type": "markdown",
   "metadata": {},
   "source": [
    "Este es un archivo de prueba, sin actividades."
   ]
  },
  {
   "cell_type": "code",
   "execution_count": 5,
   "metadata": {},
   "outputs": [
    {
     "name": "stdout",
     "output_type": "stream",
     "text": [
      "Hola Don Jaime!\n",
      "50\n",
      "46\n",
      "42\n",
      "38\n",
      "34\n",
      "30\n",
      "26\n",
      "22\n",
      "18\n",
      "14\n",
      "10\n",
      "6\n",
      "2\n"
     ]
    }
   ],
   "source": [
    "print('Hola Don Jaime!')\n",
    "a = 50\n",
    "while a > 0:\n",
    "    \n",
    "    print(a)\n",
    "    a -= 4"
   ]
  }
 ],
 "metadata": {
  "kernelspec": {
   "display_name": "Python 3",
   "language": "python",
   "name": "python3"
  },
  "language_info": {
   "codemirror_mode": {
    "name": "ipython",
    "version": 3
   },
   "file_extension": ".py",
   "mimetype": "text/x-python",
   "name": "python",
   "nbconvert_exporter": "python",
   "pygments_lexer": "ipython3",
   "version": "3.10.10"
  },
  "orig_nbformat": 4
 },
 "nbformat": 4,
 "nbformat_minor": 2
}
